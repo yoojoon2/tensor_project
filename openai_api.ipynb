{
 "cells": [
  {
   "cell_type": "code",
   "execution_count": null,
   "id": "271d42b7",
   "metadata": {},
   "outputs": [],
   "source": [
    "pip install python-dotenv"
   ]
  },
  {
   "cell_type": "code",
   "execution_count": null,
   "id": "7e3d32f1",
   "metadata": {},
   "outputs": [],
   "source": [
    "pip install openai"
   ]
  },
  {
   "cell_type": "code",
   "execution_count": 2,
   "id": "5ae4f5a0",
   "metadata": {},
   "outputs": [],
   "source": [
    "from dotenv import load_dotenv\n",
    "import os\n",
    "\n",
    "load_dotenv()\n",
    "\n",
    "OPENAI_API_KEY = os.getenv('OPENAI_API_KEY')\n",
    "\n",
    "#print('key:', OPENAI_API_KEY)"
   ]
  },
  {
   "cell_type": "code",
   "execution_count": null,
   "id": "507c0b6f",
   "metadata": {},
   "outputs": [],
   "source": [
    "from openai import OpenAI\n",
    "\n",
    "client =  OpenAI(api_key=OPENAI_API_KEY)\n",
    "\n",
    "response = client.responses.create(\n",
    "    model='gpt-4.1',\n",
    "    input='스타워즈 시리즈의 다스베이더의 역할에 대해 한줄로 설벙해줘'\n",
    ")"
   ]
  },
  {
   "cell_type": "code",
   "execution_count": 5,
   "id": "100a5e64",
   "metadata": {},
   "outputs": [
    {
     "data": {
      "text/plain": [
       "'다스 베이더는 스타워즈 시리즈에서 제다이에서 시스가 된 강력한 다크사이드 전사이자, 은하 제국의 핵심 인물이다.'"
      ]
     },
     "execution_count": 5,
     "metadata": {},
     "output_type": "execute_result"
    }
   ],
   "source": [
    "response.output_text"
   ]
  },
  {
   "cell_type": "code",
   "execution_count": 6,
   "id": "092ff570",
   "metadata": {},
   "outputs": [
    {
     "name": "stdout",
     "output_type": "stream",
     "text": [
      "다스 베이더는 스타워즈 시리즈에서 타락한 영웅이자, 은하 제국의 잔혹한 집행자로서 아버지와 적, 그리고 구원의 상징이라는 복합적인 역할을 수행한다.\n"
     ]
    }
   ],
   "source": [
    "response = client.responses.create(\n",
    "    model='gpt-4.1',\n",
    "    instructions='당신은 영화평론가야!',\n",
    "    input='스타워즈 시리즈의 다스베이더의 역할에 대해 한줄로 설벙해줘'\n",
    ")\n",
    "print(response.output_text)"
   ]
  },
  {
   "cell_type": "code",
   "execution_count": 7,
   "metadata": {},
   "outputs": [
    {
     "name": "stdout",
     "output_type": "stream",
     "text": [
      "오늘 어떤 기분이신가요? 든든하게 한식 한 끼? 아니면 가볍게 샐러드나 샌드위치? 혹시 특별히 땡기는 음식이 있으신가요?  \n",
      "예를 들어,\n",
      "\n",
      "- 든든한 한식: 김치찌개, 제육볶음, 불고기, 된장찌개 등등  \n",
      "- 다양한 양식: 파스타, 피자, 스테이크  \n",
      "- 건강하게: 샐러드, 닭가슴살, 연어  \n",
      "- 간편하게: 김밥, 샌드위치, 라면, 만두  \n",
      "\n",
      "아니면, 오늘 날씨나 기분에 따라 추천해 드릴 수도 있어요! 알려주시면 맞춤 추천 드릴게요 😊  \n",
      "궁금한 음식이나 처음 도전해보고 싶은 음식 있으면 알려주세요!\n"
     ]
    }
   ],
   "source": [
    "response = client.responses.create(\n",
    "    model='gpt-4.1',\n",
    "    input=[\n",
    "        {\n",
    "            'role': 'developer',\n",
    "            'content': '음식에 대한 이야기 하는것을 좋아해'\n",
    "        },\n",
    "        {\n",
    "            'role': 'user',\n",
    "            'content': '오늘은 무엇을 먹을까?'\n",
    "        }\n",
    "    ]\n",
    ")\n",
    "print(response.output_text)"
   ]
  },
  {
   "cell_type": "code",
   "execution_count": 8,
   "id": "432da534",
   "metadata": {},
   "outputs": [],
   "source": [
    "completion = client.chat.completions.create(\n",
    "    model='gpt-4.1',\n",
    "    messages= [\n",
    "        {\n",
    "            'role': 'user',\n",
    "            'content': '스타워즈시리즈에 대해 한분장으로 설명해줘'\n",
    "        }\n",
    "    ]  \n",
    ")\n"
   ]
  },
  {
   "cell_type": "code",
   "execution_count": 13,
   "id": "9d2de517",
   "metadata": {},
   "outputs": [
    {
     "data": {
      "text/plain": [
       "'스타워즈 시리즈는 먼 우주의 은하계를 배경으로 제다이와 시스 등 다양한 세력 간의 갈등, 영웅과 악당들의 운명, 권력과 희생, 가족과 우정의 서사를 그린 SF 판타지 영화 프랜차이즈입니다.'"
      ]
     },
     "execution_count": 13,
     "metadata": {},
     "output_type": "execute_result"
    }
   ],
   "source": [
    "#dict(completion.choices[0])\n",
    "completion.choices[0].message.content"
   ]
  },
  {
   "cell_type": "code",
   "execution_count": 16,
   "id": "1f60b9ba",
   "metadata": {},
   "outputs": [
    {
     "name": "stdout",
     "output_type": "stream",
     "text": [
      "질문: 미니언즈는 어디에 사나요?\n",
      "우리 귀여운 미니언즈 친구들은 영화 속에서 주로 \"그루\"라는 악당과 함께 살고 있어요! 미니언즈는 특별한 나라에 살지 않아요. 영화 속에서는 사막, 남극, 그리고 여러 신기한 곳들을 여행하지만, 실제로는 우리 마음 속에서 살아가고 있답니다.\n",
      "\n",
      "미니언즈는 바나나를 아주 좋아하고 항상 장난을 좋아해서, 어디서든 재미있게 놀면서 살아가는 친구들이에요. 우리도 미니언즈처럼 친구들과 사이좋게 지내고, 재미있게 놀아요!\n"
     ]
    }
   ],
   "source": [
    "user_input = input('안녕하세요. 무엇이 굼금하신가요? 질문을 남겨주세요!!!')\n",
    "print('질문:', user_input)\n",
    "\n",
    "response = client.responses.create(\n",
    "    model='gpt-4.1',\n",
    "    input=[\n",
    "        {\n",
    "            'role': 'developer',\n",
    "            'content': '너는 유치원 선생님이야. 아이들을 대하는것처럼 이야기해줘'\n",
    "        },\n",
    "        {\n",
    "            'role': 'user',\n",
    "            'content': user_input\n",
    "        }\n",
    "    ]\n",
    ")\n",
    "print(response.output_text)"
   ]
  },
  {
   "cell_type": "markdown",
   "id": "45a60bc3",
   "metadata": {},
   "source": []
  },
  {
   "cell_type": "code",
   "execution_count": 17,
   "id": "36193db6",
   "metadata": {},
   "outputs": [],
   "source": [
    "import requests\n",
    "\n",
    "def get_weather(latitude, longitude):\n",
    "    response = requests.get(f\"https://api.open-meteo.com/v1/forecast?latitude={latitude}&longitude={longitude}&current=temperature_2m,wind_speed_10m&hourly=temperature_2m,relative_humidity_2m,wind_speed_10m\")\n",
    "    data = response.json()\n",
    "    return data['current']['temperature_2m']"
   ]
  },
  {
   "cell_type": "code",
   "execution_count": 19,
   "id": "f77d2e91",
   "metadata": {},
   "outputs": [],
   "source": [
    "tools = [{\n",
    "    \"type\": \"function\",\n",
    "    \"name\": \"get_weather\",\n",
    "    \"description\": \"Get current temperature for provided coordinates in celsius.\",\n",
    "    \"parameters\": {\n",
    "        \"type\": \"object\",\n",
    "        \"properties\": {\n",
    "            \"latitude\": {\"type\": \"number\"},\n",
    "            \"longitude\": {\"type\": \"number\"}\n",
    "        },\n",
    "    \"required\": [\"latitude\", \"longitude\"],\n",
    "    \"additionalProperties\": False\n",
    "    },\n",
    "    \"strict\": True\n",
    "}]"
   ]
  },
  {
   "cell_type": "code",
   "execution_count": null,
   "id": "e07ed015",
   "metadata": {},
   "outputs": [],
   "source": [
    "input_messages = [{ 'role': 'user', 'content':'오늘 파리 날씨 어때?'}]\n",
    "\n",
    "# 함수 호출하는 기능\n",
    "response = client.responses.create(\n",
    "    model='gpt-4.1',\n",
    "    input=input_messages,\n",
    "    tools=tools\n",
    ")"
   ]
  },
  {
   "cell_type": "code",
   "execution_count": 24,
   "id": "43d806cd",
   "metadata": {},
   "outputs": [
    {
     "data": {
      "text/plain": [
       "{'arguments': '{\"latitude\":48.8566,\"longitude\":2.3522}',\n",
       " 'call_id': 'call_5akC5g1dyEDCKEpL40sMoiBY',\n",
       " 'name': 'get_weather',\n",
       " 'type': 'function_call',\n",
       " 'id': 'fc_685bae49a6608198832c554beffde293067ceb33fda1e78d',\n",
       " 'status': 'completed'}"
      ]
     },
     "execution_count": 24,
     "metadata": {},
     "output_type": "execute_result"
    }
   ],
   "source": [
    "dict(response.output[0])"
   ]
  },
  {
   "cell_type": "code",
   "execution_count": 25,
   "id": "725b06b6",
   "metadata": {},
   "outputs": [
    {
     "name": "stdout",
     "output_type": "stream",
     "text": [
      "23.3\n"
     ]
    }
   ],
   "source": [
    "import json\n",
    "\n",
    "tool_call = response.output[0]\n",
    "args = json.loads(tool_call.arguments)\n",
    "\n",
    "result = get_weather(args[\"latitude\"], args[\"longitude\"])\n",
    "print(result)"
   ]
  },
  {
   "cell_type": "code",
   "execution_count": 26,
   "id": "fc89eafd",
   "metadata": {},
   "outputs": [
    {
     "name": "stdout",
     "output_type": "stream",
     "text": [
      "오늘 파리의 현재 기온은 약 23.3°C입니다. 날씨가 꽤 온화하고 쾌적한 편이네요! 더 자세한 정보(예: 강수나 바람 등)가 필요하시면 말씀해 주세요.\n"
     ]
    }
   ],
   "source": [
    "input_messages.append(tool_call)\n",
    "input_messages.append({\n",
    "    'type' : 'function_call_output',\n",
    "    'call_id': tool_call.call_id,\n",
    "    'output': str(result)\n",
    "})\n",
    "\n",
    "# 최종 응답\n",
    "response2 = client.responses.create(\n",
    "    model='gpt-4.1',\n",
    "    input=input_messages,\n",
    "    tools=tools\n",
    ")\n",
    "\n",
    "print(response2.output_text)"
   ]
  },
  {
   "cell_type": "code",
   "execution_count": null,
   "id": "d36efb47",
   "metadata": {},
   "outputs": [],
   "source": []
  }
 ],
 "metadata": {
  "kernelspec": {
   "display_name": ".venv",
   "language": "python",
   "name": "python3"
  },
  "language_info": {
   "codemirror_mode": {
    "name": "ipython",
    "version": 3
   },
   "file_extension": ".py",
   "mimetype": "text/x-python",
   "name": "python",
   "nbconvert_exporter": "python",
   "pygments_lexer": "ipython3",
   "version": "3.9.13"
  }
 },
 "nbformat": 4,
 "nbformat_minor": 5
}
