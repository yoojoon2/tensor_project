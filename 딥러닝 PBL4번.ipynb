{
 "cells": [
  {
   "cell_type": "code",
   "execution_count": 1,
   "metadata": {},
   "outputs": [],
   "source": [
    "import pandas as pd\n",
    "from sklearn.model_selection import train_test_split\n",
    "from sklearn.preprocessing import LabelEncoder, StandardScaler\n",
    "from sklearn.linear_model import LogisticRegression\n",
    "from sklearn.metrics import classification_report\n",
    "\n",
    "\n",
    "df = pd.read_csv('20250623_161915_web_server_logs_2.csv')"
   ]
  },
  {
   "cell_type": "code",
   "execution_count": 2,
   "metadata": {},
   "outputs": [],
   "source": [
    "# 파생 변수 생성\n",
    "df['hour'] = pd.to_datetime(df['timestamp']).dt.hour\n",
    "\n",
    "# status_code로부터 is_error, label을 새로 생성\n",
    "df['is_error'] = (df['status_code'] >= 400).astype(int)\n",
    "df['label'] = df['is_error']  # label도 따로 명시적으로 생성\n",
    "\n",
    "# 사용할 피처 선택\n",
    "features = ['hour', 'ip', 'method', 'status_code', 'size']\n",
    "\n",
    "# 범주형 변수 인코딩\n",
    "for col in ['ip', 'method']:\n",
    "    le = LabelEncoder()\n",
    "    df[col] = le.fit_transform(df[col])\n",
    "\n",
    "# 수치형 변수 스케일 조정\n",
    "num_cols = ['hour', 'status_code', 'size']\n",
    "scaler = StandardScaler()\n",
    "df[num_cols] = scaler.fit_transform(df[num_cols])\n",
    "\n",
    "# 특성/라벨 분리\n",
    "X = df[features]\n",
    "y = df['label']"
   ]
  },
  {
   "cell_type": "code",
   "execution_count": 3,
   "metadata": {},
   "outputs": [],
   "source": [
    "# 학습/테스트 데이터 분리 8:2 비율\n",
    "X_train, X_test, y_train, y_test = train_test_split(\n",
    "    X, y, test_size=0.2, random_state=42, stratify=y\n",
    ")"
   ]
  },
  {
   "cell_type": "code",
   "execution_count": 4,
   "metadata": {},
   "outputs": [],
   "source": [
    "# 7. 모델 학습 및 예측\n",
    "model = LogisticRegression(max_iter=200)\n",
    "model.fit(X_train, y_train)\n",
    "y_pred = model.predict(X_test)"
   ]
  },
  {
   "cell_type": "code",
   "execution_count": 5,
   "metadata": {},
   "outputs": [
    {
     "name": "stdout",
     "output_type": "stream",
     "text": [
      "              precision    recall  f1-score   support\n",
      "\n",
      "           0     1.0000    1.0000    1.0000       213\n",
      "           1     1.0000    1.0000    1.0000        87\n",
      "\n",
      "    accuracy                         1.0000       300\n",
      "   macro avg     1.0000    1.0000    1.0000       300\n",
      "weighted avg     1.0000    1.0000    1.0000       300\n",
      "\n"
     ]
    }
   ],
   "source": [
    "# 8. 성능 평가\n",
    "print(classification_report(y_test, y_pred, digits=4))"
   ]
  },
  {
   "cell_type": "code",
   "execution_count": 6,
   "metadata": {},
   "outputs": [
    {
     "name": "stdout",
     "output_type": "stream",
     "text": [
      "             timestamp      hour  status_code  is_error\n",
      "0  2024-11-30 09:26:01 -0.345817     0.202251         0\n",
      "1  2024-11-30 12:00:34  0.084423    -0.729286         0\n",
      "2  2024-12-01 00:22:12 -1.636535    -0.729286         0\n",
      "3  2024-11-30 19:33:26  1.088314    -0.729286         0\n",
      "4  2024-11-30 05:37:26 -0.919469    -0.729286         0\n",
      "5  2024-11-30 10:02:02 -0.202404    -0.720062         0\n",
      "6  2024-11-30 06:13:50 -0.776056     2.065324         1\n",
      "7  2024-11-30 11:53:40 -0.058991     1.152234         1\n",
      "8  2024-12-01 00:24:57 -1.636535    -0.720062         0\n",
      "9  2024-11-30 04:37:41 -1.062883    -0.729286         0\n"
     ]
    }
   ],
   "source": [
    "# hour, is_error 생성 확인\n",
    "print(df[['timestamp', 'hour', 'status_code', 'is_error']].head(10))"
   ]
  },
  {
   "cell_type": "markdown",
   "metadata": {},
   "source": [
    "# 웹 서버 로그 기반 악성 요청 분류 결과 요약\n",
    "\n",
    "## 주요 내용\n",
    "- **피처**: hour, ip, method, status_code, size (인코딩/스케일링 적용)\n",
    "- **타깃(label)**: status_code 400 이상이면 1, 아니면 0으로 직접 생성\n",
    "\n",
    "## 분류 성능\n",
    "\n",
    "| label | precision | recall | f1-score | support |\n",
    "|-------|-----------|--------|----------|---------|\n",
    "| 0     | 1.00      | 1.00   | 1.00     | 213     |\n",
    "| 1     | 1.00      | 1.00   | 1.00     | 87      |\n",
    "| 전체  |           |        | **1.00** | 300     |\n",
    "\n",
    "## 요약\n",
    "- status_code가 label 기준이라, 모델이 정답을 100% 맞춤"
   ]
  }
 ],
 "metadata": {
  "kernelspec": {
   "display_name": ".venv",
   "language": "python",
   "name": "python3"
  },
  "language_info": {
   "codemirror_mode": {
    "name": "ipython",
    "version": 3
   },
   "file_extension": ".py",
   "mimetype": "text/x-python",
   "name": "python",
   "nbconvert_exporter": "python",
   "pygments_lexer": "ipython3",
   "version": "3.9.13"
  }
 },
 "nbformat": 4,
 "nbformat_minor": 2
}
