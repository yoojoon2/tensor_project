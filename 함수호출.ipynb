{
 "cells": [
  {
   "cell_type": "code",
   "execution_count": 4,
   "metadata": {},
   "outputs": [],
   "source": [
    "from dotenv import load_dotenv\n",
    "import os\n",
    "\n",
    "load_dotenv()\n",
    "\n",
    "OPENAI_API_KEY = os.getenv('OPENAI_API_KEY')\n",
    "\n",
    "#print('key:', OPENAI_API_KEY)"
   ]
  },
  {
   "cell_type": "code",
   "execution_count": 5,
   "metadata": {},
   "outputs": [],
   "source": [
    "from openai import OpenAI\n",
    "\n",
    "client = OpenAI(api_key=OPENAI_API_KEY)\n",
    "\n",
    "response = client.responses.create(\n",
    "    model='gpt-4.1',\n",
    "    input='영화 듄시리즈에대해 설명해줘',\n",
    ")"
   ]
  },
  {
   "cell_type": "code",
   "execution_count": 6,
   "metadata": {},
   "outputs": [
    {
     "name": "stdout",
     "output_type": "stream",
     "text": [
      "물론이죠! 영화 **‘듄(Dune)’** 시리즈는 프랭크 허버트(Frank Herbert)의 동명의 SF 소설을 원작으로 한 대형 SF 영화 시리즈입니다.\n",
      "\n",
      "---\n",
      "\n",
      "### 1. 원작 및 세계관\n",
      "\n",
      "- **원작**: Frank Herbert의 1965년 소설 《Dune》은 ‘듄 시리즈’의 첫 번째 소설로, 이후 여러 권의 후속작이 있습니다.\n",
      "- **세계관**: \n",
      "  - 먼 미래, 인류는 여러 행성에 분포하며 귀족 가문들이 정치·경제적으로 다툼을 벌입니다.\n",
      "  - **아라키스(Arrakis)**라는 사막 행성(별명: 듄)이 작품의 중심 무대입니다. \n",
      "  - 이 행성은 유일하게 존재하는 ‘스파이스(Spice Melange)’라는 귀중한 자원의 산지로, 우주 항해와 생명 연장 등 필수적인 자원이기에 다툼의 핵심입니다.\n",
      "\n",
      "---\n",
      "\n",
      "### 2. 주요 줄거리\n",
      "#### 《듄(2021) — Part 1》\n",
      "- **감독**: 드니 빌뇌브(Denis Villeneuve)\n",
      "- **주요 배우**: 티모시 샬라메(폴), 레베카 퍼거슨(레이디 제시카), 오스카 아이작(레토 공작), 젠데이아(차니) 등\n",
      "- **내용**:\n",
      "  - 아트레이데스(Atriedes) 가문이 황제의 명령으로 아라키스를 통치하게 됩니다.\n",
      "  - 하지만 이것은 황제와 하코넨(Harkonnen) 가문이 꾸민 덫이었고, 아트레이데스 가문은 공격을 받아 붕괴합니다.\n",
      "  - 살아남은 폴 아트레이데스와 그의 어머니 제시카는 아라키스의 토착민 프레멘(Fremen)과 힘을 합쳐 운명을 개척해 나가려 합니다.\n",
      "\n",
      "#### 《듄: 파트 2(Dune: Part Two, 2024)》\n",
      "- **줄거리**:\n",
      "  - 폴이 프레멘들과 함께 하코넨 가문과 황제에게 반란을 준비하는 내용을 담고 있습니다.\n",
      "  - 권력, 예언, 복수 등이 얽힌 폴의 여정과 성장, 그리고 아라키스의 운명이 그려집니다.\n",
      "\n",
      "---\n",
      "\n",
      "### 3. 특징/의의\n",
      "- **스케일이 큰 정치극**과 **종교·생태·권력** 등 다양한 테마를 다루며, 단순한 SF 모험이 아니라 심오한 철학과 인간 심리를 담고 있습니다.\n",
      "- **비주얼과 음악**: 드니 빌뇌브 감독 특유의 웅장한 비주얼, 한스 짐머의 음악으로 찬사를 받습니다.\n",
      "- **이전 영화화**: \n",
      "  - 1984년 데이빗 린치 감독이 첫 영화화 했으나 호불호가 컸고, \n",
      "  - 2000~2003년 TV 미니시리즈도 존재합니다.\n",
      "\n",
      "---\n",
      "\n",
      "### 4. 앞으로\n",
      "- 드니 빌뇌브 감독은 원작 2권 《Dune Messiah(듄의 신탁자)》의 영화화도 계획 중이라고 알려져 있습니다.\n",
      "\n",
      "---\n",
      "\n",
      "**요약:**  \n",
      "‘듄’ 시리즈는 장엄한 사막 행성과 권력을 둘러싼 여러 가문, 예언과 혁명, 인간과 자연의 이야기를 그린 SF의 대표작으로, 최근 영화는 원작에 충실하면서도 현대적 감각을 더해 전 세계적으로 큰 인기를 얻고 있습니다.\n",
      "\n",
      "추가 궁금한 점 있으면 물어보세요!\n"
     ]
    }
   ],
   "source": [
    "response.output_textresponse = client.responses.create(\n",
    "    model='gpt-4.1',\n",
    "    instructions='너는 영화평론가야.',\n",
    "    input='영화 듄시리즈 중 1편에 대해 설명해줘'\n",
    ")\n",
    "print(response.output_text)"
   ]
  },
  {
   "cell_type": "code",
   "execution_count": 7,
   "metadata": {},
   "outputs": [],
   "source": [
    "from datetime import datetime\n",
    "\n",
    "def calculate_age(birthdate):\n",
    "    birth = datetime.strptime(birthdate, \"%Y-%m-%d\")\n",
    "    today = datetime.today()\n",
    "    return today.year - birth.year - ((today.month, today.day) < (birth.month, birth.day))"
   ]
  },
  {
   "cell_type": "code",
   "execution_count": 8,
   "metadata": {},
   "outputs": [],
   "source": [
    "tools = [{\n",
    "        \"type\": \"function\",\n",
    "        \"name\": \"calculate_age\",\n",
    "        \"description\": \"생일에 맞춰 나이를 계산해줘(YYYY-MM-DD).\",\n",
    "        \"parameters\": {\n",
    "            \"type\": \"object\",\n",
    "            \"properties\": {\n",
    "                \"birthdate\": {\"type\": \"string\"}\n",
    "            },\n",
    "            \"required\": [\"birthdate\"],\n",
    "            \"additionalProperties\": False\n",
    "        },\n",
    "        \"strict\": True\n",
    "    }]"
   ]
  },
  {
   "cell_type": "code",
   "execution_count": 9,
   "metadata": {},
   "outputs": [
    {
     "name": "stdout",
     "output_type": "stream",
     "text": [
      "[ResponseFunctionToolCall(arguments='{\"birthdate\":\"2001-04-09\"}', call_id='call_lv7APdobQWBGHIs7ya4B3JKt', name='calculate_age', type='function_call', id='fc_685bbd67788c819bbd236efc0d5670f10e437e340df6469f', status='completed')]\n"
     ]
    }
   ],
   "source": [
    "input_messages = [{\"role\": \"user\", \"content\": \"2001-04-09일 생의 만 나이는?\"}]\n",
    "\n",
    "response = client.responses.create(\n",
    "    model=\"gpt-4.1\",\n",
    "    input=input_messages,\n",
    "    tools=tools,\n",
    ")\n",
    "print(response.output)"
   ]
  },
  {
   "cell_type": "code",
   "execution_count": 10,
   "metadata": {},
   "outputs": [
    {
     "name": "stdout",
     "output_type": "stream",
     "text": [
      "24\n"
     ]
    }
   ],
   "source": [
    "import json\n",
    "\n",
    "tool_call = response.output[0]\n",
    "args = json.loads(tool_call.arguments)\n",
    "\n",
    "result = calculate_age(args[\"birthdate\"])\n",
    "print(result)"
   ]
  },
  {
   "cell_type": "code",
   "execution_count": 11,
   "metadata": {},
   "outputs": [
    {
     "name": "stdout",
     "output_type": "stream",
     "text": [
      "2001년 4월 9일 생의 만 나이는 24세입니다.\n"
     ]
    }
   ],
   "source": [
    "input_messages.append(tool_call)\n",
    "\n",
    "input_messages.append({\n",
    "    \"type\": \"function_call_output\",\n",
    "    \"call_id\": tool_call.call_id,\n",
    "    \"output\": str(result)\n",
    "})\n",
    "\n",
    "response_2 = client.responses.create(\n",
    "    model=\"gpt-4.1\",\n",
    "    input=input_messages,\n",
    "    tools=tools,\n",
    ")\n",
    "\n",
    "print(response_2.output_text)"
   ]
  },
  {
   "cell_type": "code",
   "execution_count": 12,
   "metadata": {},
   "outputs": [],
   "source": [
    "def convert_currency(amount: float, rate: float = 1362) -> float:\n",
    "    return round(amount * rate, 2)"
   ]
  },
  {
   "cell_type": "code",
   "execution_count": 13,
   "metadata": {},
   "outputs": [],
   "source": [
    "tools = [{\n",
    "        \"type\": \"function\",\n",
    "        \"name\": \"convert_currency\",\n",
    "        \"description\": \"달러를 환율에 맞춰 원화로 바꿔줘.\",\n",
    "        \"parameters\": {\n",
    "            \"type\": \"object\",\n",
    "            \"properties\": {\n",
    "                \"amount\": {\n",
    "                    \"type\": \"number\"},\n",
    "                \"rate\": {\n",
    "                    \"type\": \"number\"}\n",
    "            },\n",
    "            \"required\": [\"amount\", \"rate\"],\n",
    "            \"additionalProperties\": False\n",
    "        },\n",
    "        \"strict\": True\n",
    "}]"
   ]
  },
  {
   "cell_type": "code",
   "execution_count": 19,
   "metadata": {},
   "outputs": [
    {
     "name": "stdout",
     "output_type": "stream",
     "text": [
      "[ResponseFunctionToolCall(arguments='{\"amount\":1000,\"rate\":1362}', call_id='call_ENG0iFu0jSjgfqDIOO684Fch', name='convert_currency', type='function_call', id='fc_685bbe5746a4819a857f5672f3918d4900a521bd0c60cffe', status='completed')]\n"
     ]
    }
   ],
   "source": [
    "input_messages = [{\"role\": \"user\", \"content\": \"1000달러를 원화로 바꾸면? 현재 환율은 1362원이야\"}]\n",
    "\n",
    "response = client.responses.create(\n",
    "    model=\"gpt-4.1\",\n",
    "    input=input_messages,\n",
    "    tools=tools,\n",
    ")\n",
    "print(response.output)"
   ]
  },
  {
   "cell_type": "code",
   "execution_count": 20,
   "metadata": {},
   "outputs": [
    {
     "name": "stdout",
     "output_type": "stream",
     "text": [
      "1362000\n"
     ]
    }
   ],
   "source": [
    "tool_call = response.output[0]\n",
    "args = json.loads(tool_call.arguments)\n",
    "\n",
    "result = convert_currency(args[\"amount\"],args[\"rate\"])\n",
    "print(result)"
   ]
  },
  {
   "cell_type": "code",
   "execution_count": 21,
   "metadata": {},
   "outputs": [
    {
     "name": "stdout",
     "output_type": "stream",
     "text": [
      "1000달러를 원화로 바꾸면 1,362,000원이 됩니다.\n"
     ]
    }
   ],
   "source": [
    "input_messages.append(tool_call)\n",
    "\n",
    "input_messages.append({\n",
    "    \"type\": \"function_call_output\",\n",
    "    \"call_id\": tool_call.call_id,\n",
    "    \"output\": str(result)\n",
    "})\n",
    "\n",
    "response_2 = client.responses.create(\n",
    "    model=\"gpt-4.1\",\n",
    "    input=input_messages,\n",
    "    tools=tools,\n",
    ")\n",
    "\n",
    "print(response_2.output_text)"
   ]
  },
  {
   "cell_type": "code",
   "execution_count": 22,
   "metadata": {},
   "outputs": [],
   "source": [
    "def calculate_bmi(height: float, weight: float) -> float:\n",
    "    height_m = height / 100  # cm → m\n",
    "    bmi = weight / (height_m ** 2)\n",
    "    return round(bmi, 2)"
   ]
  },
  {
   "cell_type": "code",
   "execution_count": 23,
   "metadata": {},
   "outputs": [],
   "source": [
    "tools = [{\n",
    "        \"type\": \"function\",\n",
    "        \"name\": \"calculate_bmi\",\n",
    "        \"description\": \"키(cm)와 몸무게(kg)을 사용해서 BMI를 계산해줘.\",\n",
    "        \"parameters\": {\n",
    "            \"type\": \"object\",\n",
    "            \"properties\": {\n",
    "                \"height\": {\"type\": \"number\"},\n",
    "                \"weight\": {\"type\": \"number\"}\n",
    "            },\n",
    "            \"required\": [\"height\", \"weight\"],\n",
    "            \"additionalProperties\" : False\n",
    "        },\n",
    "        \"strict\": True\n",
    "}]"
   ]
  },
  {
   "cell_type": "code",
   "execution_count": 25,
   "metadata": {},
   "outputs": [
    {
     "name": "stdout",
     "output_type": "stream",
     "text": [
      "[ResponseFunctionToolCall(arguments='{\"height\":180,\"weight\":72}', call_id='call_DXRA2HQ1yCaNVhmlwzqBiRih', name='calculate_bmi', type='function_call', id='fc_685bbf151c308199a74dc9902a62947b015ae8b7899e59ac', status='completed')]\n"
     ]
    }
   ],
   "source": [
    "input_messages = [{\"role\": \"user\", \"content\": \"키 180cm, 몸무게 72kg의 BMI는?\"}]\n",
    "\n",
    "response = client.responses.create(\n",
    "    model=\"gpt-4.1\",\n",
    "    input=input_messages,\n",
    "    tools=tools,\n",
    ")\n",
    "print(response.output)"
   ]
  },
  {
   "cell_type": "code",
   "execution_count": 26,
   "metadata": {},
   "outputs": [
    {
     "name": "stdout",
     "output_type": "stream",
     "text": [
      "22.22\n"
     ]
    }
   ],
   "source": [
    "tool_call = response.output[0]\n",
    "args = json.loads(tool_call.arguments)\n",
    "\n",
    "result = calculate_bmi(args[\"height\"],args[\"weight\"])\n",
    "print(result)"
   ]
  },
  {
   "cell_type": "code",
   "execution_count": 27,
   "metadata": {},
   "outputs": [
    {
     "name": "stdout",
     "output_type": "stream",
     "text": [
      "키 180cm, 몸무게 72kg의 BMI는 22.22입니다. 이는 정상 체중 범위에 해당합니다.\n"
     ]
    }
   ],
   "source": [
    "input_messages.append(tool_call)\n",
    "\n",
    "input_messages.append({\n",
    "    \"type\": \"function_call_output\",\n",
    "    \"call_id\": tool_call.call_id,\n",
    "    \"output\": str(result)\n",
    "})\n",
    "\n",
    "response_2 = client.responses.create(\n",
    "    model=\"gpt-4.1\",\n",
    "    input=input_messages,\n",
    "    tools=tools,\n",
    ")\n",
    "\n",
    "print(response_2.output_text)"
   ]
  }
 ],
 "metadata": {
  "kernelspec": {
   "display_name": ".venv",
   "language": "python",
   "name": "python3"
  },
  "language_info": {
   "codemirror_mode": {
    "name": "ipython",
    "version": 3
   },
   "file_extension": ".py",
   "mimetype": "text/x-python",
   "name": "python",
   "nbconvert_exporter": "python",
   "pygments_lexer": "ipython3",
   "version": "3.9.13"
  }
 },
 "nbformat": 4,
 "nbformat_minor": 2
}
